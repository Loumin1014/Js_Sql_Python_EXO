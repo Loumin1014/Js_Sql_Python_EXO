{
 "cells": [
  {
   "cell_type": "markdown",
   "metadata": {},
   "source": [
    "## Palindrome"
   ]
  },
  {
   "cell_type": "code",
   "execution_count": null,
   "metadata": {},
   "outputs": [],
   "source": [
    " mot= input ('mot à verifier : ')\n",
    " x=mot[::-1]\n",
    " if mot == x:\n",
    "     print (\"c'est un palindrome\")\n",
    " else:\n",
    "     print ( \"ce n'est pas un palindrome\")"
   ]
  },
  {
   "cell_type": "markdown",
   "metadata": {},
   "source": [
    "##  LANCER DE Dé "
   ]
  },
  {
   "cell_type": "code",
   "execution_count": null,
   "metadata": {},
   "outputs": [],
   "source": [
    " from random import*\n",
    "    \n",
    " dice1=randint(1,6) \n",
    " dice2=randint(1,6) \n",
    " dice3=randint(1,6) \n",
    " dice4=randint(1,6) \n",
    " dice5=randint(1,6) \n",
    "\n",
    " print (dice1)\n",
    " print (dice2)\n",
    " print (dice3)\n",
    " print (dice4)\n",
    " print (dice5)\n",
    "\n",
    " somme = dice1+dice2+dice3+dice4+dice5\n",
    " print(somme)"
   ]
  },
  {
   "cell_type": "markdown",
   "metadata": {},
   "source": [
    "## LANCER DE Dé V2"
   ]
  },
  {
   "cell_type": "code",
   "execution_count": null,
   "metadata": {},
   "outputs": [],
   "source": [
    "from random import*\n",
    "somme =0\n",
    "for i in range(5):\n",
    "    tmp= randint(1,6)\n",
    "    somme+=tmp\n",
    "    print(tmp)\n",
    "print(somme)  "
   ]
  },
  {
   "cell_type": "markdown",
   "metadata": {},
   "source": [
    "##  CALCUL DE MOYENNES "
   ]
  },
  {
   "cell_type": "code",
   "execution_count": null,
   "metadata": {},
   "outputs": [],
   "source": [
    "somme =0\n",
    "moyenne=0\n",
    "for i in range(5):\n",
    "    note=int(input('entrez une note '))\n",
    "    somme+=note\n",
    "    \"\"\"print(somme)\"\"\"\n",
    "moyenne = somme/5\n",
    "print(moyenne)"
   ]
  },
  {
   "cell_type": "markdown",
   "metadata": {},
   "source": [
    "## Année Bisextile "
   ]
  },
  {
   "cell_type": "code",
   "execution_count": null,
   "metadata": {},
   "outputs": [],
   "source": [
    " annee = int(input('rentrez une annee :'))\n",
    "if annee % 400 ==0  or (annee % 4 == 0 and annee % 100 != 0):\n",
    "    print(\"L'année est bien bisextile\")\n",
    "else:\n",
    "    print(\"L'année n'est pas bisextile\")  "
   ]
  },
  {
   "cell_type": "code",
   "execution_count": null,
   "metadata": {},
   "outputs": [],
   "source": []
  },
  {
   "cell_type": "markdown",
   "metadata": {},
   "source": [
    "## FIBONACCI"
   ]
  },
  {
   "cell_type": "code",
   "execution_count": null,
   "metadata": {},
   "outputs": [],
   "source": [
    "n = int(input(\"Tapez un nombre :\"))\n",
    "def fib(n):\n",
    "    if n==1 or n==2:\n",
    "        return 1\n",
    "    else:   \n",
    "        return fib(n-1)+fib(n-2)\n",
    "print (fib(n))\n"
   ]
  },
  {
   "cell_type": "markdown",
   "metadata": {},
   "source": [
    "## TRAITEMENT DES DONNEES CONTENUES DANS UNE MATRICE "
   ]
  },
  {
   "cell_type": "code",
   "execution_count": null,
   "metadata": {},
   "outputs": [],
   "source": [
    "import numpy as np \n",
    "tab2d = [21, 45, 68, 91, 165, 16, 12, 2, 5]\n",
    "impaire = []\n",
    "\n",
    "for nombre in tab2d:\n",
    "    if nombre %2 !=0:\n",
    "        impaire.append(nombre)\n",
    "        print(impaire)\n",
    "def somme(I):\n",
    "    sum =0\n",
    "    for nombre in I:\n",
    "        if nombre>0:\n",
    "            sum+=nombre\n",
    "    return sum        \n",
    "   \n",
    "print (somme(impaire)) "
   ]
  },
  {
   "cell_type": "code",
   "execution_count": null,
   "metadata": {},
   "outputs": [],
   "source": [
    "import numpy as np\n",
    "Gil=np.array([[6,2,3,5],[4,6,2,6],[1,3,6,7],[3,6,3,8]])\n",
    "\"\"\"print(Gil)\"\"\"\n",
    "print(np.diag(Gil))\n",
    "print(np.diag(Gil[::-1]))"
   ]
  },
  {
   "cell_type": "code",
   "execution_count": null,
   "metadata": {},
   "outputs": [],
   "source": [
    "Gil=np.array([[6,2,3,5],[4,6,2,6],[1,3,6,7],[3,6,3,8]])\n",
    "def comparaison():\n",
    "    a= np.sum([np.diag(Gil)])\n",
    "    b= np.sum([np.diag(Gil[::-1])])\n",
    "    if a == b:\n",
    "        print('OUI')\n",
    "    else: \n",
    "        print('NON')    \n",
    "  \n",
    "print (comparaison())     "
   ]
  },
  {
   "cell_type": "code",
   "execution_count": null,
   "metadata": {},
   "outputs": [],
   "source": [
    "tab = np.array([[6,2,3,5],[4,6,2,6],[1,3,6,7],[3,6,3,8],[6,0,1,4]])\n",
    "print(tab)\n",
    "A=(tab.sum(axis=1))/4\n",
    "print(A)\n",
    "\"\"\"B=A.max()\n",
    "print(B)\"\"\"\n",
    "B=np.argmax(A)\n",
    "print(B)"
   ]
  },
  {
   "cell_type": "markdown",
   "metadata": {},
   "source": [
    " ## ÉCHANGE DE TRIANGLES "
   ]
  },
  {
   "cell_type": "code",
   "execution_count": null,
   "metadata": {},
   "outputs": [],
   "source": [
    "import numpy as np\n",
    "tab = np.array([[10, 11, 45, 78],[23, 44, 12, 56],[56, 90, 67, 89],[47, 78, 55, 34]])\n",
    "print(tab)\n",
    "np.transpose(tab)"
   ]
  },
  {
   "cell_type": "markdown",
   "metadata": {},
   "source": [
    " ## BASE DE DONNEES ETUDIANTE "
   ]
  },
  {
   "cell_type": "code",
   "execution_count": null,
   "metadata": {},
   "outputs": [],
   "source": [
    "etudiant=[]\n",
    "numero= int(input('rentrez votre numero :'))\n",
    "nom = input('rentrez votre nom :'))\n",
    "prenom = input('rentrez votre prenom :'))"
   ]
  },
  {
   "cell_type": "code",
   "execution_count": null,
   "metadata": {},
   "outputs": [],
   "source": [
    "tmp={1:(7, 'alowaifi','haifa'),2:(8,'alowaifi','loujain'),\n",
    "     3:(9,'alowaifi', 'jasmin')}\n",
    "\n",
    "a= int(input('veuillez rentrer votre numero : '))\n",
    "b= input('veuillez rentrer votre nom : ').lower()\n",
    "c= input('veuillez rentrer votre prenom : ')\n",
    "tmp[4]=(a,b,c)\n",
    "\n",
    "tmp"
   ]
  },
  {
   "cell_type": "code",
   "execution_count": null,
   "metadata": {},
   "outputs": [],
   "source": [
    "tmp"
   ]
  },
  {
   "cell_type": "code",
   "execution_count": null,
   "metadata": {},
   "outputs": [],
   "source": [
    "x=input('recherche par nom').lower()\n",
    "tmp[0][1]"
   ]
  },
  {
   "cell_type": "code",
   "execution_count": null,
   "metadata": {},
   "outputs": [],
   "source": [
    "bddEtudiants = np.array ([['Numéro', 'Nom', 'Prénom'], [1, 'Yborra', 'Amandine'], \n",
    "                          [2, 'Ben Khalaf', 'Haïfa'], [3, 'Durand', 'Matthieu'], [4, 'Dumanois', 'Axel']])\n",
    "print(bddEtudiants)"
   ]
  }
 ],
 "metadata": {
  "kernelspec": {
   "display_name": "Python 3",
   "language": "python",
   "name": "python3"
  },
  "language_info": {
   "codemirror_mode": {
    "name": "ipython",
    "version": 3
   },
   "file_extension": ".py",
   "mimetype": "text/x-python",
   "name": "python",
   "nbconvert_exporter": "python",
   "pygments_lexer": "ipython3",
   "version": "3.7.0"
  }
 },
 "nbformat": 4,
 "nbformat_minor": 2
}
